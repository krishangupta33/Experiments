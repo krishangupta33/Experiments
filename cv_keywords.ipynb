{
 "cells": [
  {
   "cell_type": "code",
   "execution_count": 15,
   "metadata": {},
   "outputs": [],
   "source": [
    "import fitz  # PyMuPDF\n",
    "import re"
   ]
  },
  {
   "cell_type": "code",
   "execution_count": 16,
   "metadata": {},
   "outputs": [
    {
     "name": "stdout",
     "output_type": "stream",
     "text": [
      "\n",
      "Absent Keywords:\n",
      "AWS \n",
      "Transformer Models\n",
      "sklearn\n",
      "Deep Learning\n",
      "LLaMa\n",
      "Model Deployment\n",
      "Functional Programming\n",
      "Knowledge Retrieval\n",
      "Generative AI\n",
      "Business Acumen\n",
      "data structuresmachine learning\n"
     ]
    }
   ],
   "source": [
    "\n",
    "\n",
    "# Keywords to search for in the resume\n",
    "keywords = [\n",
    "    \"Data Science\", \"Machine Learning\", \"AI\",\"Artificial Intelligence\", \"Data Mining\",\n",
    "    \"Pytorch\", \"Advanced Analytics\", \"Statistics\", \"Python\", \"Cloud Computing\", \"AWS \",\"Amazon Web Services\",\n",
    "    \"TensorFlow\", \"LSTM\", \"RNN\", \"Transformer Models\",\n",
    "    \"sklearn\", \"pandas\", \"HuggingFace\", \"numpy\", \"Regression\", \"Supervised Learning\", \"Unsupervised Learning\",\n",
    "    \"Deep Learning\", \"LLaMa\", \"NLP\", \"CV\", \"Model Deployment\",\"Natural Language Processing\",\n",
    "    \"Functional Programming\", \"Github\", \"Version Control\", \"Knowledge Retrieval\", \"Generative AI\",\n",
    "    \"Feature Engineering\", \"Business Acumen\", \"Computer Science\", \"Computer Vision\", \"data structures\"\n",
    "\"machine learning\"\n",
    "]\n",
    "\n",
    "# Function to read resume text from a PDF file\n",
    "def extract_text_from_pdf(pdf_path):\n",
    "    doc = fitz.open(pdf_path)\n",
    "    text = \"\"\n",
    "    for page in doc:\n",
    "        text += page.get_text()\n",
    "    return text\n",
    "\n",
    "# Function to check which keywords are present and which are not in the resume\n",
    "def check_keywords_in_resume(resume_text, keywords):\n",
    "    present_keywords = []\n",
    "    absent_keywords = []\n",
    "    \n",
    "    for keyword in keywords:\n",
    "        # Using regular expressions to ensure whole word matching, case insensitive\n",
    "        if re.search(r'\\b' + re.escape(keyword) + r'\\b', resume_text, re.IGNORECASE):\n",
    "            present_keywords.append(keyword)\n",
    "        else:\n",
    "            absent_keywords.append(keyword)\n",
    "    \n",
    "    return present_keywords, absent_keywords\n",
    "\n",
    "# Example usage\n",
    "pdf_path = 'Resume.pdf'  # Update this to the path of your PDF resume\n",
    "resume_text = extract_text_from_pdf(pdf_path)\n",
    "present_keywords, absent_keywords = check_keywords_in_resume(resume_text, keywords)\n",
    "\n",
    "print(\"\\nAbsent Keywords:\")\n",
    "for keyword in absent_keywords:\n",
    "    print(keyword)\n"
   ]
  },
  {
   "cell_type": "code",
   "execution_count": 14,
   "metadata": {},
   "outputs": [
    {
     "name": "stdout",
     "output_type": "stream",
     "text": [
      "Present Keywords:\n",
      "Data Science\n",
      "Machine Learning\n",
      "AI\n",
      "Artificial Intelligence\n",
      "Data Mining\n",
      "Pytorch\n",
      "Advanced Analytics\n",
      "Statistics\n",
      "Python\n",
      "Cloud Computing\n",
      "Amazon Web Services\n",
      "TensorFlow\n",
      "LSTM\n",
      "RNN\n",
      "pandas\n",
      "HuggingFace\n",
      "numpy\n",
      "Regression\n",
      "Supervised Learning\n",
      "Unsupervised Learning\n",
      "NLP\n",
      "CV\n",
      "Natural Language Processing\n",
      "Github\n",
      "Version Control\n",
      "Feature Engineering\n",
      "Computer Science\n",
      "Computer Vision\n"
     ]
    }
   ],
   "source": [
    "print(\"Present Keywords:\")\n",
    "for keyword in present_keywords:\n",
    "    print(keyword)\n"
   ]
  }
 ],
 "metadata": {
  "kernelspec": {
   "display_name": "Python 3",
   "language": "python",
   "name": "python3"
  },
  "language_info": {
   "codemirror_mode": {
    "name": "ipython",
    "version": 3
   },
   "file_extension": ".py",
   "mimetype": "text/x-python",
   "name": "python",
   "nbconvert_exporter": "python",
   "pygments_lexer": "ipython3",
   "version": "3.9.6"
  }
 },
 "nbformat": 4,
 "nbformat_minor": 2
}
