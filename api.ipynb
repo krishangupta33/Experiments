{
 "cells": [
  {
   "cell_type": "code",
   "execution_count": 3,
   "metadata": {},
   "outputs": [
    {
     "name": "stderr",
     "output_type": "stream",
     "text": [
      "/Users/krishan/Library/Python/3.9/lib/python/site-packages/urllib3/__init__.py:34: NotOpenSSLWarning: urllib3 v2 only supports OpenSSL 1.1.1+, currently the 'ssl' module is compiled with 'LibreSSL 2.8.3'. See: https://github.com/urllib3/urllib3/issues/3020\n",
      "  warnings.warn(\n"
     ]
    }
   ],
   "source": [
    "import requests\n",
    "import json\n",
    "import toml\n"
   ]
  },
  {
   "cell_type": "code",
   "execution_count": 8,
   "metadata": {},
   "outputs": [],
   "source": [
    "# Load the TOML file\n",
    "with open('secrets.toml', 'r') as file:\n",
    "    secrets = toml.load(file)\n",
    "\n",
    "# Extract the OpenAI key\n",
    "rapid_api_key = secrets['rapid_api_key_dev']\n",
    "\n"
   ]
  },
  {
   "cell_type": "code",
   "execution_count": 9,
   "metadata": {},
   "outputs": [
    {
     "name": "stdout",
     "output_type": "stream",
     "text": [
      "{'title': 'Argylle', 'year': 2024, 'running_time': 139}\n"
     ]
    }
   ],
   "source": [
    "\n",
    "\n",
    "def fetch_movie_details(api_key, title_id):\n",
    "\n",
    "    url = \"https://online-movie-database.p.rapidapi.com/title/get-details\"\n",
    "    querystring = {\"tconst\":title_id}\n",
    "    headers = {\n",
    "    \"X-RapidAPI-Key\": rapid_api_key,\n",
    "    \"X-RapidAPI-Host\": \"online-movie-database.p.rapidapi.com\"\n",
    "    }\n",
    "\n",
    "    response = requests.get(url, headers=headers, params=querystring)\n",
    "    response.raise_for_status()  # Raise an error if the request fails\n",
    "    \n",
    "\n",
    "    data = response.json()\n",
    "\n",
    "\n",
    "\n",
    "    return {\n",
    "        'title': data[\"title\"],\n",
    "        'year': data['year'],\n",
    "        'running_time': data['runningTimeInMinutes'] \n",
    "    }\n",
    "    \n",
    "\n",
    "def main():\n",
    "    api_key = \"d8e2ecd47bmsh19d69eabbe96c31p1817ebjsn5df22252fd7e\"  \n",
    "    title_ids = ['tt15009428', 'tt15314262', 'tt10676048', 'tt11057302', 'tt15239678']\n",
    "    title_id = title_ids[0] \n",
    "\n",
    "    movie_details = fetch_movie_details(api_key, title_id)\n",
    "    print(movie_details)\n",
    "\n",
    "if __name__ == \"__main__\":\n",
    "    main()\n"
   ]
  },
  {
   "cell_type": "code",
   "execution_count": null,
   "metadata": {},
   "outputs": [],
   "source": []
  }
 ],
 "metadata": {
  "kernelspec": {
   "display_name": "Python 3",
   "language": "python",
   "name": "python3"
  },
  "language_info": {
   "codemirror_mode": {
    "name": "ipython",
    "version": 3
   },
   "file_extension": ".py",
   "mimetype": "text/x-python",
   "name": "python",
   "nbconvert_exporter": "python",
   "pygments_lexer": "ipython3",
   "version": "3.9.6"
  }
 },
 "nbformat": 4,
 "nbformat_minor": 2
}
