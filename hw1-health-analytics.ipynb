{
 "cells": [
  {
   "cell_type": "code",
   "execution_count": 1,
   "metadata": {},
   "outputs": [],
   "source": [
    "# Suppose you need to schedule two surgeries of type “BREAST RECONSTRUCTION FREE” (CPT code = 19364) for an Operating Room (OR) in one day.  The start time of the first surgery is 08:00am. Suppose the idle cost for the OR is $5 per minute, and each patient’s waiting cost is $1.5 per minute. Answer the following questions:\n",
    "# Suppose the second surgery is scheduled at 14:30pm. The first surgery takes 6 hours. What is the waiting cost of the second patient? What is the idling cost of the OR? Ignore the room turnover time between the two surgeries.\n",
    "\n",
    "# Suppose that the time duration of surgeries with CPT=19364 follow the same probabilistic distribution as given in the data. Then by scheduling the second surgery at 14:30 of that day, what is the expected waiting cost, the expected idling cost, and the expected total cost?\n",
    "\n"
   ]
  },
  {
   "cell_type": "code",
   "execution_count": null,
   "metadata": {},
   "outputs": [],
   "source": [
    "import pandas as pd"
   ]
  }
 ],
 "metadata": {
  "kernelspec": {
   "display_name": "Python 3",
   "language": "python",
   "name": "python3"
  },
  "language_info": {
   "codemirror_mode": {
    "name": "ipython",
    "version": 3
   },
   "file_extension": ".py",
   "mimetype": "text/x-python",
   "name": "python",
   "nbconvert_exporter": "python",
   "pygments_lexer": "ipython3",
   "version": "3.9.6"
  }
 },
 "nbformat": 4,
 "nbformat_minor": 2
}
